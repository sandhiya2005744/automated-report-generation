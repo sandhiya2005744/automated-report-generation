{
 "cells": [
  {
   "cell_type": "code",
   "execution_count": 1,
   "id": "e43bbeaa",
   "metadata": {},
   "outputs": [],
   "source": [
    "\n",
    "import pandas\n",
    "import matplotlib\n",
    "import seaborn\n",
    "import notebook\n",
    "import fpdf"
   ]
  },
  {
   "cell_type": "markdown",
   "id": "cd87ad4b",
   "metadata": {},
   "source": [
    "import libraries"
   ]
  },
  {
   "cell_type": "code",
   "execution_count": 8,
   "id": "7c5b645c",
   "metadata": {},
   "outputs": [
    {
     "name": "stdout",
     "output_type": "stream",
     "text": [
      "✅ data.csv file created!\n"
     ]
    }
   ],
   "source": [
    "import pandas as pd\n",
    "\n",
    "# Create data\n",
    "data = {\n",
    "    'Name': ['John', 'Alice', 'Bob', 'Emma'],\n",
    "    'Score': [85, 78, 92, 67],\n",
    "    'Grade': ['A', 'B', 'A+', 'C']\n",
    "}\n",
    "\n",
    "# Convert to DataFrame\n",
    "df = pd.DataFrame(data)\n",
    "\n",
    "# Save to CSV\n",
    "df.to_csv('data.csv', index=False)\n",
    "\n",
    "print(\"✅ data.csv file created!\")"
   ]
  },
  {
   "cell_type": "markdown",
   "id": "c62acffe",
   "metadata": {},
   "source": [
    "Csv file created"
   ]
  },
  {
   "cell_type": "code",
   "execution_count": 10,
   "id": "f1784dd0",
   "metadata": {},
   "outputs": [
    {
     "name": "stdout",
     "output_type": "stream",
     "text": [
      "Collecting fpdf\n",
      "  Downloading fpdf-1.7.2.tar.gz (39 kB)\n",
      "  Installing build dependencies: started\n",
      "  Installing build dependencies: finished with status 'done'\n",
      "  Getting requirements to build wheel: started\n",
      "  Getting requirements to build wheel: finished with status 'done'\n",
      "  Preparing metadata (pyproject.toml): started\n",
      "  Preparing metadata (pyproject.toml): finished with status 'done'\n",
      "Building wheels for collected packages: fpdf\n",
      "  Building wheel for fpdf (pyproject.toml): started\n",
      "  Building wheel for fpdf (pyproject.toml): finished with status 'done'\n",
      "  Created wheel for fpdf: filename=fpdf-1.7.2-py2.py3-none-any.whl size=40769 sha256=f271c4bf8badb8610f7ec3da0e048648623a973ac018f5c47e54d5539c0e91b0\n",
      "  Stored in directory: c:\\users\\lenovo\\appdata\\local\\pip\\cache\\wheels\\6e\\62\\11\\dc73d78e40a218ad52e7451f30166e94491be013a7850b5d75\n",
      "Successfully built fpdf\n",
      "Installing collected packages: fpdf\n",
      "Successfully installed fpdf-1.7.2\n",
      "Note: you may need to restart the kernel to use updated packages.\n"
     ]
    },
    {
     "name": "stderr",
     "output_type": "stream",
     "text": [
      "\n",
      "[notice] A new release of pip is available: 24.0 -> 25.1.1\n",
      "[notice] To update, run: python.exe -m pip install --upgrade pip\n"
     ]
    }
   ],
   "source": [
    "pip install fpdf"
   ]
  },
  {
   "cell_type": "markdown",
   "id": "6810c17f",
   "metadata": {},
   "source": [
    "Install fpdf"
   ]
  },
  {
   "cell_type": "code",
   "execution_count": 14,
   "id": "73ee1695",
   "metadata": {},
   "outputs": [
    {
     "name": "stdout",
     "output_type": "stream",
     "text": [
      "✅ PDF report generated: sample_report.pdf\n"
     ]
    }
   ],
   "source": [
    "from fpdf import FPDF\n",
    "import pandas as pd\n",
    "\n",
    "# CSV file read pannurathu\n",
    "data = pd.read_csv('data.csv')\n",
    "\n",
    "# Analysis: Average, Highest, Lowest\n",
    "average_score = data['Score'].mean()\n",
    "highest_score = data['Score'].max()\n",
    "lowest_score = data['Score'].min()\n",
    "\n",
    "# PDF create pannurathu\n",
    "pdf = FPDF()\n",
    "pdf.add_page()\n",
    "pdf.set_font(\"Arial\", size=12)\n",
    "\n",
    "# Title\n",
    "pdf.set_font(\"Arial\", 'B', size=16)\n",
    "pdf.cell(200, 10, txt=\"Student Score Report\", ln=True, align='C')\n",
    "\n",
    "# Summary\n",
    "pdf.ln(10)\n",
    "pdf.set_font(\"Arial\", size=12)\n",
    "pdf.cell(200, 10, txt=f\"Average Score: {average_score:.2f}\", ln=True)\n",
    "pdf.cell(200, 10, txt=f\"Highest Score: {highest_score}\", ln=True)\n",
    "pdf.cell(200, 10, txt=f\"Lowest Score: {lowest_score}\", ln=True)\n",
    "\n",
    "# Table Header\n",
    "pdf.ln(10)\n",
    "pdf.set_font(\"Arial\", 'B', size=12)\n",
    "pdf.cell(60, 10, \"Name\", 1)\n",
    "pdf.cell(40, 10, \"Score\", 1)\n",
    "pdf.cell(40, 10, \"Grade\", 1)\n",
    "pdf.ln()\n",
    "\n",
    "# Table Rows\n",
    "pdf.set_font(\"Arial\", size=12)\n",
    "for index, row in data.iterrows():\n",
    "    pdf.cell(60, 10, row['Name'], 1)\n",
    "    pdf.cell(40, 10, str(row['Score']), 1)\n",
    "    pdf.cell(40, 10, row['Grade'], 1)\n",
    "    pdf.ln()\n",
    "\n",
    "# Save PDF\n",
    "pdf.output(\"sample_report.pdf\")\n",
    "print(\"✅ PDF report generated: sample_report.pdf\")"
   ]
  },
  {
   "cell_type": "markdown",
   "id": "d849fb9f",
   "metadata": {},
   "source": [
    "Pdf reported created"
   ]
  }
 ],
 "metadata": {
  "kernelspec": {
   "display_name": "Python 3",
   "language": "python",
   "name": "python3"
  },
  "language_info": {
   "codemirror_mode": {
    "name": "ipython",
    "version": 3
   },
   "file_extension": ".py",
   "mimetype": "text/x-python",
   "name": "python",
   "nbconvert_exporter": "python",
   "pygments_lexer": "ipython3",
   "version": "3.12.3"
  }
 },
 "nbformat": 4,
 "nbformat_minor": 5
}
